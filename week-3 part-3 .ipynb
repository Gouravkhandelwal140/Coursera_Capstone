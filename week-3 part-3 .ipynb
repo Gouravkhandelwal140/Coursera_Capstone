{
 "cells": [
  {
   "cell_type": "markdown",
   "metadata": {},
   "source": [
    "# part 1"
   ]
  },
  {
   "cell_type": "markdown",
   "metadata": {},
   "source": [
    "Impport required libraries"
   ]
  },
  {
   "cell_type": "code",
   "execution_count": 1,
   "metadata": {},
   "outputs": [],
   "source": [
    "import numpy as np\n",
    "import pandas as pd\n",
    "import urllib.request\n",
    "import requests\n",
    "from bs4 import BeautifulSoup\n",
    "import urllib.request,urllib.parse,urllib.error\n"
   ]
  },
  {
   "cell_type": "code",
   "execution_count": 2,
   "metadata": {},
   "outputs": [],
   "source": [
    "url=\"https://en.wikipedia.org/wiki/List_of_postal_codes_of_Canada:_M\"\n"
   ]
  },
  {
   "cell_type": "markdown",
   "metadata": {},
   "source": [
    "Scraping the data and make a pandas dataFrame"
   ]
  },
  {
   "cell_type": "code",
   "execution_count": 3,
   "metadata": {},
   "outputs": [
    {
     "data": {
      "text/html": [
       "<div>\n",
       "<style scoped>\n",
       "    .dataframe tbody tr th:only-of-type {\n",
       "        vertical-align: middle;\n",
       "    }\n",
       "\n",
       "    .dataframe tbody tr th {\n",
       "        vertical-align: top;\n",
       "    }\n",
       "\n",
       "    .dataframe thead th {\n",
       "        text-align: right;\n",
       "    }\n",
       "</style>\n",
       "<table border=\"1\" class=\"dataframe\">\n",
       "  <thead>\n",
       "    <tr style=\"text-align: right;\">\n",
       "      <th></th>\n",
       "      <th>index</th>\n",
       "      <th>Postal Code</th>\n",
       "      <th>Borough</th>\n",
       "      <th>Neighbourhood</th>\n",
       "    </tr>\n",
       "  </thead>\n",
       "  <tbody>\n",
       "    <tr>\n",
       "      <th>0</th>\n",
       "      <td>2</td>\n",
       "      <td>M3A</td>\n",
       "      <td>North York</td>\n",
       "      <td>Parkwoods</td>\n",
       "    </tr>\n",
       "    <tr>\n",
       "      <th>1</th>\n",
       "      <td>3</td>\n",
       "      <td>M4A</td>\n",
       "      <td>North York</td>\n",
       "      <td>Victoria Village</td>\n",
       "    </tr>\n",
       "    <tr>\n",
       "      <th>2</th>\n",
       "      <td>4</td>\n",
       "      <td>M5A</td>\n",
       "      <td>Downtown Toronto</td>\n",
       "      <td>Regent Park, Harbourfront</td>\n",
       "    </tr>\n",
       "    <tr>\n",
       "      <th>3</th>\n",
       "      <td>5</td>\n",
       "      <td>M6A</td>\n",
       "      <td>North York</td>\n",
       "      <td>Lawrence Manor, Lawrence Heights</td>\n",
       "    </tr>\n",
       "    <tr>\n",
       "      <th>4</th>\n",
       "      <td>6</td>\n",
       "      <td>M7A</td>\n",
       "      <td>Downtown Toronto</td>\n",
       "      <td>Queen's Park, Ontario Provincial Government</td>\n",
       "    </tr>\n",
       "    <tr>\n",
       "      <th>...</th>\n",
       "      <td>...</td>\n",
       "      <td>...</td>\n",
       "      <td>...</td>\n",
       "      <td>...</td>\n",
       "    </tr>\n",
       "    <tr>\n",
       "      <th>98</th>\n",
       "      <td>160</td>\n",
       "      <td>M8X</td>\n",
       "      <td>Etobicoke</td>\n",
       "      <td>The Kingsway, Montgomery Road, Old Mill North</td>\n",
       "    </tr>\n",
       "    <tr>\n",
       "      <th>99</th>\n",
       "      <td>165</td>\n",
       "      <td>M4Y</td>\n",
       "      <td>Downtown Toronto</td>\n",
       "      <td>Church and Wellesley</td>\n",
       "    </tr>\n",
       "    <tr>\n",
       "      <th>100</th>\n",
       "      <td>168</td>\n",
       "      <td>M7Y</td>\n",
       "      <td>East Toronto</td>\n",
       "      <td>Business reply mail Processing Centre, South C...</td>\n",
       "    </tr>\n",
       "    <tr>\n",
       "      <th>101</th>\n",
       "      <td>169</td>\n",
       "      <td>M8Y</td>\n",
       "      <td>Etobicoke</td>\n",
       "      <td>Old Mill South, King's Mill Park, Sunnylea, Hu...</td>\n",
       "    </tr>\n",
       "    <tr>\n",
       "      <th>102</th>\n",
       "      <td>178</td>\n",
       "      <td>M8Z</td>\n",
       "      <td>Etobicoke</td>\n",
       "      <td>Mimico NW, The Queensway West, South of Bloor,...</td>\n",
       "    </tr>\n",
       "  </tbody>\n",
       "</table>\n",
       "<p>103 rows × 4 columns</p>\n",
       "</div>"
      ],
      "text/plain": [
       "     index Postal Code           Borough  \\\n",
       "0        2         M3A        North York   \n",
       "1        3         M4A        North York   \n",
       "2        4         M5A  Downtown Toronto   \n",
       "3        5         M6A        North York   \n",
       "4        6         M7A  Downtown Toronto   \n",
       "..     ...         ...               ...   \n",
       "98     160         M8X         Etobicoke   \n",
       "99     165         M4Y  Downtown Toronto   \n",
       "100    168         M7Y      East Toronto   \n",
       "101    169         M8Y         Etobicoke   \n",
       "102    178         M8Z         Etobicoke   \n",
       "\n",
       "                                         Neighbourhood  \n",
       "0                                            Parkwoods  \n",
       "1                                     Victoria Village  \n",
       "2                            Regent Park, Harbourfront  \n",
       "3                     Lawrence Manor, Lawrence Heights  \n",
       "4          Queen's Park, Ontario Provincial Government  \n",
       "..                                                 ...  \n",
       "98       The Kingsway, Montgomery Road, Old Mill North  \n",
       "99                                Church and Wellesley  \n",
       "100  Business reply mail Processing Centre, South C...  \n",
       "101  Old Mill South, King's Mill Park, Sunnylea, Hu...  \n",
       "102  Mimico NW, The Queensway West, South of Bloor,...  \n",
       "\n",
       "[103 rows x 4 columns]"
      ]
     },
     "execution_count": 3,
     "metadata": {},
     "output_type": "execute_result"
    }
   ],
   "source": [
    "html=urllib.request.urlopen(url).read()\n",
    "data=pd.read_html(html,header=0)[0]\n",
    "df=data[data['Neighbourhood']!='Not assigned']\n",
    "df.reset_index(inplace=True)\n",
    "df"
   ]
  },
  {
   "cell_type": "code",
   "execution_count": 4,
   "metadata": {},
   "outputs": [
    {
     "data": {
      "text/html": [
       "<div>\n",
       "<style scoped>\n",
       "    .dataframe tbody tr th:only-of-type {\n",
       "        vertical-align: middle;\n",
       "    }\n",
       "\n",
       "    .dataframe tbody tr th {\n",
       "        vertical-align: top;\n",
       "    }\n",
       "\n",
       "    .dataframe thead th {\n",
       "        text-align: right;\n",
       "    }\n",
       "</style>\n",
       "<table border=\"1\" class=\"dataframe\">\n",
       "  <thead>\n",
       "    <tr style=\"text-align: right;\">\n",
       "      <th></th>\n",
       "      <th>index</th>\n",
       "      <th>Borough</th>\n",
       "      <th>Neighbourhood</th>\n",
       "    </tr>\n",
       "    <tr>\n",
       "      <th>Postal Code</th>\n",
       "      <th></th>\n",
       "      <th></th>\n",
       "      <th></th>\n",
       "    </tr>\n",
       "  </thead>\n",
       "  <tbody>\n",
       "    <tr>\n",
       "      <th>M1B</th>\n",
       "      <td>9</td>\n",
       "      <td>Scarborough</td>\n",
       "      <td>Malvern, Rouge</td>\n",
       "    </tr>\n",
       "    <tr>\n",
       "      <th>M1C</th>\n",
       "      <td>18</td>\n",
       "      <td>Scarborough</td>\n",
       "      <td>Rouge Hill, Port Union, Highland Creek</td>\n",
       "    </tr>\n",
       "    <tr>\n",
       "      <th>M1E</th>\n",
       "      <td>27</td>\n",
       "      <td>Scarborough</td>\n",
       "      <td>Guildwood, Morningside, West Hill</td>\n",
       "    </tr>\n",
       "    <tr>\n",
       "      <th>M1G</th>\n",
       "      <td>36</td>\n",
       "      <td>Scarborough</td>\n",
       "      <td>Woburn</td>\n",
       "    </tr>\n",
       "    <tr>\n",
       "      <th>M1H</th>\n",
       "      <td>45</td>\n",
       "      <td>Scarborough</td>\n",
       "      <td>Cedarbrae</td>\n",
       "    </tr>\n",
       "    <tr>\n",
       "      <th>...</th>\n",
       "      <td>...</td>\n",
       "      <td>...</td>\n",
       "      <td>...</td>\n",
       "    </tr>\n",
       "    <tr>\n",
       "      <th>M9N</th>\n",
       "      <td>98</td>\n",
       "      <td>York</td>\n",
       "      <td>Weston</td>\n",
       "    </tr>\n",
       "    <tr>\n",
       "      <th>M9P</th>\n",
       "      <td>107</td>\n",
       "      <td>Etobicoke</td>\n",
       "      <td>Westmount</td>\n",
       "    </tr>\n",
       "    <tr>\n",
       "      <th>M9R</th>\n",
       "      <td>116</td>\n",
       "      <td>Etobicoke</td>\n",
       "      <td>Kingsview Village, St. Phillips, Martin Grove ...</td>\n",
       "    </tr>\n",
       "    <tr>\n",
       "      <th>M9V</th>\n",
       "      <td>143</td>\n",
       "      <td>Etobicoke</td>\n",
       "      <td>South Steeles, Silverstone, Humbergate, Jamest...</td>\n",
       "    </tr>\n",
       "    <tr>\n",
       "      <th>M9W</th>\n",
       "      <td>152</td>\n",
       "      <td>Etobicoke</td>\n",
       "      <td>Northwest, West Humber - Clairville</td>\n",
       "    </tr>\n",
       "  </tbody>\n",
       "</table>\n",
       "<p>103 rows × 3 columns</p>\n",
       "</div>"
      ],
      "text/plain": [
       "             index      Borough  \\\n",
       "Postal Code                       \n",
       "M1B              9  Scarborough   \n",
       "M1C             18  Scarborough   \n",
       "M1E             27  Scarborough   \n",
       "M1G             36  Scarborough   \n",
       "M1H             45  Scarborough   \n",
       "...            ...          ...   \n",
       "M9N             98         York   \n",
       "M9P            107    Etobicoke   \n",
       "M9R            116    Etobicoke   \n",
       "M9V            143    Etobicoke   \n",
       "M9W            152    Etobicoke   \n",
       "\n",
       "                                                 Neighbourhood  \n",
       "Postal Code                                                     \n",
       "M1B                                             Malvern, Rouge  \n",
       "M1C                     Rouge Hill, Port Union, Highland Creek  \n",
       "M1E                          Guildwood, Morningside, West Hill  \n",
       "M1G                                                     Woburn  \n",
       "M1H                                                  Cedarbrae  \n",
       "...                                                        ...  \n",
       "M9N                                                     Weston  \n",
       "M9P                                                  Westmount  \n",
       "M9R          Kingsview Village, St. Phillips, Martin Grove ...  \n",
       "M9V          South Steeles, Silverstone, Humbergate, Jamest...  \n",
       "M9W                        Northwest, West Humber - Clairville  \n",
       "\n",
       "[103 rows x 3 columns]"
      ]
     },
     "execution_count": 4,
     "metadata": {},
     "output_type": "execute_result"
    }
   ],
   "source": [
    "df.groupby(['Postal Code']).first()"
   ]
  },
  {
   "cell_type": "markdown",
   "metadata": {},
   "source": [
    "The new Wiki link already has nieghborhood merged according to Postal Code and Borough"
   ]
  },
  {
   "cell_type": "code",
   "execution_count": 5,
   "metadata": {},
   "outputs": [
    {
     "data": {
      "text/plain": [
       "(103,)"
      ]
     },
     "execution_count": 5,
     "metadata": {},
     "output_type": "execute_result"
    }
   ],
   "source": [
    "df['Postal Code'].unique().shape"
   ]
  },
  {
   "cell_type": "code",
   "execution_count": 6,
   "metadata": {},
   "outputs": [
    {
     "data": {
      "text/plain": [
       "(103, 4)"
      ]
     },
     "execution_count": 6,
     "metadata": {},
     "output_type": "execute_result"
    }
   ],
   "source": [
    "df.shape"
   ]
  },
  {
   "cell_type": "markdown",
   "metadata": {},
   "source": [
    "# part 2"
   ]
  },
  {
   "cell_type": "code",
   "execution_count": 7,
   "metadata": {},
   "outputs": [],
   "source": [
    "url2=\"http://cocl.us/Geospatial_data\""
   ]
  },
  {
   "cell_type": "code",
   "execution_count": 8,
   "metadata": {},
   "outputs": [],
   "source": [
    "import geocoder"
   ]
  },
  {
   "cell_type": "code",
   "execution_count": 9,
   "metadata": {},
   "outputs": [],
   "source": [
    "df_geo=pd.read_csv(url2)"
   ]
  },
  {
   "cell_type": "code",
   "execution_count": 10,
   "metadata": {},
   "outputs": [],
   "source": [
    "df_new=pd.merge(df,df_geo,on='Postal Code')"
   ]
  },
  {
   "cell_type": "code",
   "execution_count": 11,
   "metadata": {},
   "outputs": [],
   "source": [
    "df_new.drop(['index'],axis=1,inplace=True)\n"
   ]
  },
  {
   "cell_type": "code",
   "execution_count": 12,
   "metadata": {},
   "outputs": [],
   "source": [
    "df_new.index.name='index'\n"
   ]
  },
  {
   "cell_type": "code",
   "execution_count": 13,
   "metadata": {},
   "outputs": [
    {
     "data": {
      "text/html": [
       "<div>\n",
       "<style scoped>\n",
       "    .dataframe tbody tr th:only-of-type {\n",
       "        vertical-align: middle;\n",
       "    }\n",
       "\n",
       "    .dataframe tbody tr th {\n",
       "        vertical-align: top;\n",
       "    }\n",
       "\n",
       "    .dataframe thead th {\n",
       "        text-align: right;\n",
       "    }\n",
       "</style>\n",
       "<table border=\"1\" class=\"dataframe\">\n",
       "  <thead>\n",
       "    <tr style=\"text-align: right;\">\n",
       "      <th></th>\n",
       "      <th>Postal Code</th>\n",
       "      <th>Borough</th>\n",
       "      <th>Neighbourhood</th>\n",
       "      <th>Latitude</th>\n",
       "      <th>Longitude</th>\n",
       "    </tr>\n",
       "    <tr>\n",
       "      <th>index</th>\n",
       "      <th></th>\n",
       "      <th></th>\n",
       "      <th></th>\n",
       "      <th></th>\n",
       "      <th></th>\n",
       "    </tr>\n",
       "  </thead>\n",
       "  <tbody>\n",
       "    <tr>\n",
       "      <th>0</th>\n",
       "      <td>M3A</td>\n",
       "      <td>North York</td>\n",
       "      <td>Parkwoods</td>\n",
       "      <td>43.753259</td>\n",
       "      <td>-79.329656</td>\n",
       "    </tr>\n",
       "    <tr>\n",
       "      <th>1</th>\n",
       "      <td>M4A</td>\n",
       "      <td>North York</td>\n",
       "      <td>Victoria Village</td>\n",
       "      <td>43.725882</td>\n",
       "      <td>-79.315572</td>\n",
       "    </tr>\n",
       "    <tr>\n",
       "      <th>2</th>\n",
       "      <td>M5A</td>\n",
       "      <td>Downtown Toronto</td>\n",
       "      <td>Regent Park, Harbourfront</td>\n",
       "      <td>43.654260</td>\n",
       "      <td>-79.360636</td>\n",
       "    </tr>\n",
       "    <tr>\n",
       "      <th>3</th>\n",
       "      <td>M6A</td>\n",
       "      <td>North York</td>\n",
       "      <td>Lawrence Manor, Lawrence Heights</td>\n",
       "      <td>43.718518</td>\n",
       "      <td>-79.464763</td>\n",
       "    </tr>\n",
       "    <tr>\n",
       "      <th>4</th>\n",
       "      <td>M7A</td>\n",
       "      <td>Downtown Toronto</td>\n",
       "      <td>Queen's Park, Ontario Provincial Government</td>\n",
       "      <td>43.662301</td>\n",
       "      <td>-79.389494</td>\n",
       "    </tr>\n",
       "  </tbody>\n",
       "</table>\n",
       "</div>"
      ],
      "text/plain": [
       "      Postal Code           Borough  \\\n",
       "index                                 \n",
       "0             M3A        North York   \n",
       "1             M4A        North York   \n",
       "2             M5A  Downtown Toronto   \n",
       "3             M6A        North York   \n",
       "4             M7A  Downtown Toronto   \n",
       "\n",
       "                                     Neighbourhood   Latitude  Longitude  \n",
       "index                                                                     \n",
       "0                                        Parkwoods  43.753259 -79.329656  \n",
       "1                                 Victoria Village  43.725882 -79.315572  \n",
       "2                        Regent Park, Harbourfront  43.654260 -79.360636  \n",
       "3                 Lawrence Manor, Lawrence Heights  43.718518 -79.464763  \n",
       "4      Queen's Park, Ontario Provincial Government  43.662301 -79.389494  "
      ]
     },
     "execution_count": 13,
     "metadata": {},
     "output_type": "execute_result"
    }
   ],
   "source": [
    "df_new.head()"
   ]
  },
  {
   "cell_type": "code",
   "execution_count": 14,
   "metadata": {},
   "outputs": [
    {
     "data": {
      "text/html": [
       "<div>\n",
       "<style scoped>\n",
       "    .dataframe tbody tr th:only-of-type {\n",
       "        vertical-align: middle;\n",
       "    }\n",
       "\n",
       "    .dataframe tbody tr th {\n",
       "        vertical-align: top;\n",
       "    }\n",
       "\n",
       "    .dataframe thead th {\n",
       "        text-align: right;\n",
       "    }\n",
       "</style>\n",
       "<table border=\"1\" class=\"dataframe\">\n",
       "  <thead>\n",
       "    <tr style=\"text-align: right;\">\n",
       "      <th></th>\n",
       "      <th>Postal Code</th>\n",
       "      <th>Borough</th>\n",
       "      <th>Neighbourhood</th>\n",
       "      <th>Latitude</th>\n",
       "      <th>Longitude</th>\n",
       "    </tr>\n",
       "    <tr>\n",
       "      <th>index</th>\n",
       "      <th></th>\n",
       "      <th></th>\n",
       "      <th></th>\n",
       "      <th></th>\n",
       "      <th></th>\n",
       "    </tr>\n",
       "  </thead>\n",
       "  <tbody>\n",
       "    <tr>\n",
       "      <th>0</th>\n",
       "      <td>M3A</td>\n",
       "      <td>North York</td>\n",
       "      <td>Parkwoods</td>\n",
       "      <td>43.753259</td>\n",
       "      <td>-79.329656</td>\n",
       "    </tr>\n",
       "    <tr>\n",
       "      <th>1</th>\n",
       "      <td>M4A</td>\n",
       "      <td>North York</td>\n",
       "      <td>Victoria Village</td>\n",
       "      <td>43.725882</td>\n",
       "      <td>-79.315572</td>\n",
       "    </tr>\n",
       "    <tr>\n",
       "      <th>2</th>\n",
       "      <td>M5A</td>\n",
       "      <td>Downtown Toronto</td>\n",
       "      <td>Regent Park, Harbourfront</td>\n",
       "      <td>43.654260</td>\n",
       "      <td>-79.360636</td>\n",
       "    </tr>\n",
       "    <tr>\n",
       "      <th>3</th>\n",
       "      <td>M6A</td>\n",
       "      <td>North York</td>\n",
       "      <td>Lawrence Manor, Lawrence Heights</td>\n",
       "      <td>43.718518</td>\n",
       "      <td>-79.464763</td>\n",
       "    </tr>\n",
       "    <tr>\n",
       "      <th>4</th>\n",
       "      <td>M7A</td>\n",
       "      <td>Downtown Toronto</td>\n",
       "      <td>Queen's Park, Ontario Provincial Government</td>\n",
       "      <td>43.662301</td>\n",
       "      <td>-79.389494</td>\n",
       "    </tr>\n",
       "    <tr>\n",
       "      <th>...</th>\n",
       "      <td>...</td>\n",
       "      <td>...</td>\n",
       "      <td>...</td>\n",
       "      <td>...</td>\n",
       "      <td>...</td>\n",
       "    </tr>\n",
       "    <tr>\n",
       "      <th>98</th>\n",
       "      <td>M8X</td>\n",
       "      <td>Etobicoke</td>\n",
       "      <td>The Kingsway, Montgomery Road, Old Mill North</td>\n",
       "      <td>43.653654</td>\n",
       "      <td>-79.506944</td>\n",
       "    </tr>\n",
       "    <tr>\n",
       "      <th>99</th>\n",
       "      <td>M4Y</td>\n",
       "      <td>Downtown Toronto</td>\n",
       "      <td>Church and Wellesley</td>\n",
       "      <td>43.665860</td>\n",
       "      <td>-79.383160</td>\n",
       "    </tr>\n",
       "    <tr>\n",
       "      <th>100</th>\n",
       "      <td>M7Y</td>\n",
       "      <td>East Toronto</td>\n",
       "      <td>Business reply mail Processing Centre, South C...</td>\n",
       "      <td>43.662744</td>\n",
       "      <td>-79.321558</td>\n",
       "    </tr>\n",
       "    <tr>\n",
       "      <th>101</th>\n",
       "      <td>M8Y</td>\n",
       "      <td>Etobicoke</td>\n",
       "      <td>Old Mill South, King's Mill Park, Sunnylea, Hu...</td>\n",
       "      <td>43.636258</td>\n",
       "      <td>-79.498509</td>\n",
       "    </tr>\n",
       "    <tr>\n",
       "      <th>102</th>\n",
       "      <td>M8Z</td>\n",
       "      <td>Etobicoke</td>\n",
       "      <td>Mimico NW, The Queensway West, South of Bloor,...</td>\n",
       "      <td>43.628841</td>\n",
       "      <td>-79.520999</td>\n",
       "    </tr>\n",
       "  </tbody>\n",
       "</table>\n",
       "<p>103 rows × 5 columns</p>\n",
       "</div>"
      ],
      "text/plain": [
       "      Postal Code           Borough  \\\n",
       "index                                 \n",
       "0             M3A        North York   \n",
       "1             M4A        North York   \n",
       "2             M5A  Downtown Toronto   \n",
       "3             M6A        North York   \n",
       "4             M7A  Downtown Toronto   \n",
       "...           ...               ...   \n",
       "98            M8X         Etobicoke   \n",
       "99            M4Y  Downtown Toronto   \n",
       "100           M7Y      East Toronto   \n",
       "101           M8Y         Etobicoke   \n",
       "102           M8Z         Etobicoke   \n",
       "\n",
       "                                           Neighbourhood   Latitude  Longitude  \n",
       "index                                                                           \n",
       "0                                              Parkwoods  43.753259 -79.329656  \n",
       "1                                       Victoria Village  43.725882 -79.315572  \n",
       "2                              Regent Park, Harbourfront  43.654260 -79.360636  \n",
       "3                       Lawrence Manor, Lawrence Heights  43.718518 -79.464763  \n",
       "4            Queen's Park, Ontario Provincial Government  43.662301 -79.389494  \n",
       "...                                                  ...        ...        ...  \n",
       "98         The Kingsway, Montgomery Road, Old Mill North  43.653654 -79.506944  \n",
       "99                                  Church and Wellesley  43.665860 -79.383160  \n",
       "100    Business reply mail Processing Centre, South C...  43.662744 -79.321558  \n",
       "101    Old Mill South, King's Mill Park, Sunnylea, Hu...  43.636258 -79.498509  \n",
       "102    Mimico NW, The Queensway West, South of Bloor,...  43.628841 -79.520999  \n",
       "\n",
       "[103 rows x 5 columns]"
      ]
     },
     "execution_count": 14,
     "metadata": {},
     "output_type": "execute_result"
    }
   ],
   "source": [
    "df_new.shape\n",
    "df=df_new\n",
    "df"
   ]
  },
  {
   "cell_type": "markdown",
   "metadata": {},
   "source": [
    "# part 3"
   ]
  },
  {
   "cell_type": "code",
   "execution_count": 15,
   "metadata": {},
   "outputs": [],
   "source": [
    "import geocoder\n",
    "from geopy.geocoders import Nominatim \n"
   ]
  },
  {
   "cell_type": "code",
   "execution_count": 16,
   "metadata": {},
   "outputs": [
    {
     "name": "stdout",
     "output_type": "stream",
     "text": [
      "The geograpical coordinate of Toronto are 43.6534817, -79.3839347.\n"
     ]
    }
   ],
   "source": [
    "address = 'Toronto, Ontario'\n",
    "geolocator = Nominatim(user_agent=\"toronto_explorer\")\n",
    "location = geolocator.geocode(address)\n",
    "latitude = location.latitude\n",
    "longitude = location.longitude\n",
    "print('The geograpical coordinate of Toronto are {}, {}.'.format(latitude, longitude))"
   ]
  },
  {
   "cell_type": "code",
   "execution_count": 17,
   "metadata": {},
   "outputs": [
    {
     "data": {
      "text/html": [
       "<div style=\"width:100%;\"><div style=\"position:relative;width:100%;height:0;padding-bottom:60%;\"><span style=\"color:#565656\">Make this Notebook Trusted to load map: File -> Trust Notebook</span><iframe src=\"about:blank\" style=\"position:absolute;width:100%;height:100%;left:0;top:0;border:none !important;\" data-html=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 onload=\"this.contentDocument.open();this.contentDocument.write(atob(this.getAttribute('data-html')));this.contentDocument.close();\" allowfullscreen webkitallowfullscreen mozallowfullscreen></iframe></div></div>"
      ],
      "text/plain": [
       "<folium.folium.Map at 0x20bf0687948>"
      ]
     },
     "execution_count": 17,
     "metadata": {},
     "output_type": "execute_result"
    }
   ],
   "source": [
    "import folium\n",
    "map_To=folium.Map(location=[latitude,longitude],zoom_start=10)\n",
    "for lat, lng, borough, neighborhood in zip(df['Latitude'], df['Longitude'], df['Borough'], df['Neighbourhood']):\n",
    "    label = '{}, {}'.format(neighborhood, borough)\n",
    "    label = folium.Popup(label, parse_html=True)\n",
    "    folium.CircleMarker(\n",
    "        [lat, lng],\n",
    "        radius=5,\n",
    "        popup=label,\n",
    "        color='blue',\n",
    "        fill=True,\n",
    "        fill_color='#3186cc',\n",
    "        fill_opacity=0.7,\n",
    "        ).add_to(map_To)\n",
    "map_To\n"
   ]
  },
  {
   "cell_type": "code",
   "execution_count": null,
   "metadata": {},
   "outputs": [],
   "source": [
    "\n"
   ]
  },
  {
   "cell_type": "code",
   "execution_count": 18,
   "metadata": {},
   "outputs": [
    {
     "name": "stdout",
     "output_type": "stream",
     "text": [
      "Your credentails:\n",
      "CLIENT_ID: 2RZFNB5Y31JKQFZOA3N5VQHQYF54W332ZILRR0GVZM1F4CVM\n",
      "CLIENT_SECRET:P5RO5IGCTFSQEZAW4RTEQBZOKJCEBUDMOJCKCZYLIDMVZYV0\n"
     ]
    }
   ],
   "source": [
    "CLIENT_ID = '2RZFNB5Y31JKQFZOA3N5VQHQYF54W332ZILRR0GVZM1F4CVM' # your Foursquare ID\n",
    "CLIENT_SECRET = 'P5RO5IGCTFSQEZAW4RTEQBZOKJCEBUDMOJCKCZYLIDMVZYV0' # your Foursquare Secret\n",
    "VERSION = '20180604' # Foursquare API version\n",
    "\n",
    "print('Your credentails:')\n",
    "print('CLIENT_ID: ' + CLIENT_ID)\n",
    "print('CLIENT_SECRET:' + CLIENT_SECRET)"
   ]
  },
  {
   "cell_type": "markdown",
   "metadata": {},
   "source": [
    "Explore the data, and get the venues in 500 meters range from our first entry"
   ]
  },
  {
   "cell_type": "code",
   "execution_count": 19,
   "metadata": {},
   "outputs": [
    {
     "name": "stdout",
     "output_type": "stream",
     "text": [
      "Latitude and longitude values of Parkwoods are 43.7532586, -79.3296565.\n"
     ]
    }
   ],
   "source": [
    "neighborhood_latitude = df.loc[0, 'Latitude'] # neighborhood latitude value\n",
    "neighborhood_longitude = df.loc[0, 'Longitude'] # neighborhood longitude value\n",
    "\n",
    "neighborhood_name = df.loc[0, 'Neighbourhood'] # neighborhood name\n",
    "\n",
    "print('Latitude and longitude values of {} are {}, {}.'.format(neighborhood_name, \n",
    "                                                               neighborhood_latitude, \n",
    "                                                               neighborhood_longitude))\n"
   ]
  },
  {
   "cell_type": "markdown",
   "metadata": {},
   "source": [
    "Create the GET request URL"
   ]
  },
  {
   "cell_type": "code",
   "execution_count": 20,
   "metadata": {},
   "outputs": [
    {
     "data": {
      "text/plain": [
       "'https://api.foursquare.com/v2/venues/explore?client_id=2RZFNB5Y31JKQFZOA3N5VQHQYF54W332ZILRR0GVZM1F4CVM&client_secret=P5RO5IGCTFSQEZAW4RTEQBZOKJCEBUDMOJCKCZYLIDMVZYV0&v=20180604&ll=43.7532586,-79.3296565&radius=500&limit=100'"
      ]
     },
     "execution_count": 20,
     "metadata": {},
     "output_type": "execute_result"
    }
   ],
   "source": [
    "LIMIT = 100\n",
    "radius = 500\n",
    "url = 'https://api.foursquare.com/v2/venues/explore?client_id={}&client_secret={}&v={}&ll={},{}&radius={}&limit={}'.format(\n",
    "    CLIENT_ID, \n",
    "    CLIENT_SECRET, \n",
    "    VERSION, \n",
    "    neighborhood_latitude, \n",
    "    neighborhood_longitude, \n",
    "    radius, \n",
    "    LIMIT)\n",
    "url\n"
   ]
  },
  {
   "cell_type": "code",
   "execution_count": 27,
   "metadata": {},
   "outputs": [],
   "source": [
    "results = requests.get(url).json()\n",
    "results"
   ]
  },
  {
   "cell_type": "code",
   "execution_count": 28,
   "metadata": {},
   "outputs": [],
   "source": [
    "def get_category_type(row):\n",
    "    try:\n",
    "        categories_list = row['categories']\n",
    "    except:\n",
    "        categories_list = row['venue.categories']\n",
    "        \n",
    "    if len(categories_list) == 0:\n",
    "        return None\n",
    "    else:\n",
    "        return categories_list[0]['name']"
   ]
  },
  {
   "cell_type": "code",
   "execution_count": null,
   "metadata": {},
   "outputs": [],
   "source": [
    "from pandas.io.json import json_normalize\n",
    "\n",
    "venues = results['response']['groups'][0]['items']\n",
    "    \n",
    "nearby_venues = json_normalize(venues) # flatten JSON\n",
    "\n",
    "# filter columns\n",
    "filtered_columns = ['venue.name', 'venue.categories', 'venue.location.lat', 'venue.location.lng']\n",
    "nearby_venues =nearby_venues.loc[:, filtered_columns]\n",
    "\n",
    "# filter the category for each row\n",
    "nearby_venues['venue.categories'] = nearby_venues.apply(get_category_type, axis=1)\n",
    "\n",
    "# clean columns\n",
    "nearby_venues.columns = [col.split(\".\")[-1] for col in nearby_venues.columns]\n",
    "\n",
    "nearby_venues.head()"
   ]
  },
  {
   "cell_type": "code",
   "execution_count": null,
   "metadata": {},
   "outputs": [],
   "source": [
    "def getNearbyVenues(names, latitudes, longitudes, radius=500):\n",
    "    \n",
    "    venues_list=[]\n",
    "    for name, lat, lng in zip(names, latitudes, longitudes):\n",
    "        print(name)\n",
    "            \n",
    "        # create the API request URL\n",
    "        url = 'https://api.foursquare.com/v2/venues/explore?&client_id={}&client_secret={}&v={}&ll={},{}&radius={}&limit={}'.format(\n",
    "            CLIENT_ID, \n",
    "            CLIENT_SECRET, \n",
    "            VERSION, \n",
    "            lat, \n",
    "            lng, \n",
    "            radius, \n",
    "            LIMIT)\n",
    "            \n",
    "        # make the GET request\n",
    "        results = requests.get(url).json()[\"response\"]['groups'][0]['items']\n",
    "        \n",
    "        # return only relevant information for each nearby venue\n",
    "        venues_list.append([(\n",
    "            name, \n",
    "            lat, \n",
    "            lng, \n",
    "            v['venue']['name'], \n",
    "            v['venue']['location']['lat'], \n",
    "            v['venue']['location']['lng'],  \n",
    "            v['venue']['categories'][0]['name']) for v in results])\n",
    "\n",
    "    nearby_venues = pd.DataFrame([item for venue_list in venues_list for item in venue_list])\n",
    "    nearby_venues.columns = ['Neighbourhood', \n",
    "                  'Neighborhood Latitude', \n",
    "                  'Neighborhood Longitude', \n",
    "                  'Venue', \n",
    "                  'Venue Latitude', \n",
    "                  'Venue Longitude', \n",
    "                  'Venue Category']\n",
    "    \n",
    "    return(nearby_venues)"
   ]
  },
  {
   "cell_type": "code",
   "execution_count": null,
   "metadata": {},
   "outputs": [],
   "source": [
    "toronto_venues = getNearbyVenues(names=df['Neighbourhood'],\n",
    "                                   latitudes=df['Latitude'],\n",
    "                                   longitudes=df['Longitude']\n",
    "                                  )"
   ]
  },
  {
   "cell_type": "code",
   "execution_count": null,
   "metadata": {},
   "outputs": [],
   "source": [
    "print(toronto_venues.shape)\n",
    "toronto_venues.head()"
   ]
  },
  {
   "cell_type": "code",
   "execution_count": 30,
   "metadata": {},
   "outputs": [],
   "source": [
    "toronto_venues.groupby('Neighbourhood').count()"
   ]
  },
  {
   "cell_type": "markdown",
   "metadata": {},
   "source": [
    "How many categorys can we find?"
   ]
  },
  {
   "cell_type": "code",
   "execution_count": null,
   "metadata": {},
   "outputs": [],
   "source": [
    "# one hot encoding\n",
    "toronto_onehot = pd.get_dummies(toronto_venues[['Venue Category']], prefix=\"\", prefix_sep=\"\")\n",
    "\n",
    "# add neighborhood column back to dataframe\n",
    "toronto_onehot['Neighbourhood'] = toronto_venues['Neighbourhood'] \n",
    "\n",
    "# move neighborhood column to the first column\n",
    "fixed_columns = [toronto_onehot.columns[-1]] + list(toronto_onehot.columns[:-1])\n",
    "toronto_onehot = toronto_onehot[fixed_columns]\n",
    "\n",
    "toronto_onehot.head()"
   ]
  },
  {
   "cell_type": "code",
   "execution_count": null,
   "metadata": {},
   "outputs": [],
   "source": [
    "toronto_onehot.shape"
   ]
  },
  {
   "cell_type": "code",
   "execution_count": null,
   "metadata": {},
   "outputs": [],
   "source": [
    "toronto_grouped = toronto_onehot.groupby('Neighbourhood').mean().reset_index()\n",
    "toronto_grouped.head()"
   ]
  },
  {
   "cell_type": "code",
   "execution_count": null,
   "metadata": {},
   "outputs": [],
   "source": [
    "toronto_grouped.shape"
   ]
  },
  {
   "cell_type": "markdown",
   "metadata": {},
   "source": [
    "Getting the top 10 for each neighbourhood"
   ]
  },
  {
   "cell_type": "code",
   "execution_count": 31,
   "metadata": {},
   "outputs": [],
   "source": [
    "def return_most_common_venues(row, num_top_venues):\n",
    "    row_categories = row.iloc[1:]\n",
    "    row_categories_sorted = row_categories.sort_values(ascending=False)\n",
    "    \n",
    "    return row_categories_sorted.index.values[0:num_top_venues]"
   ]
  },
  {
   "cell_type": "code",
   "execution_count": null,
   "metadata": {},
   "outputs": [],
   "source": [
    "import numpy as np\n",
    "num_top_venues = 10\n",
    "\n",
    "indicators = ['st', 'nd', 'rd']\n",
    "\n",
    "# create columns according to number of top venues\n",
    "columns = ['Neighbourhood']\n",
    "for ind in np.arange(num_top_venues):\n",
    "    try:\n",
    "        columns.append('{}{} Most Common Venue'.format(ind+1, indicators[ind]))\n",
    "    except:\n",
    "        columns.append('{}th Most Common Venue'.format(ind+1))\n",
    "\n",
    "# create a new dataframe\n",
    "neighborhoods_venues_sorted = pd.DataFrame(columns=columns)\n",
    "neighborhoods_venues_sorted['Neighbourhood'] = toronto_grouped['Neighbourhood']\n",
    "\n",
    "for ind in np.arange(toronto_grouped.shape[0]):\n",
    "    neighborhoods_venues_sorted.iloc[ind, 1:] = return_most_common_venues(toronto_grouped.iloc[ind, :], num_top_venues)\n",
    "\n",
    "neighborhoods_venues_sorted.head()"
   ]
  },
  {
   "cell_type": "code",
   "execution_count": null,
   "metadata": {},
   "outputs": [],
   "source": [
    "# import k-means from clustering stage\n",
    "from sklearn.cluster import KMeans\n",
    "\n",
    "# set number of clusters\n",
    "kclusters = 5\n",
    "\n",
    "toronto_grouped_clustering = toronto_grouped.drop('Neighbourhood', 1)\n",
    "\n",
    "# run k-means clustering\n",
    "kmeans = KMeans(n_clusters=kclusters, random_state=0).fit(toronto_grouped_clustering)\n",
    "\n",
    "# check cluster labels generated for each row in the dataframe\n",
    "kmeans.labels_[0:10]"
   ]
  },
  {
   "cell_type": "code",
   "execution_count": null,
   "metadata": {},
   "outputs": [],
   "source": [
    "# add clustering labels\n",
    "neighborhoods_venues_sorted.insert(0, 'Cluster Labels', kmeans.labels_)\n",
    "\n",
    "toronto_merged = df\n",
    "\n",
    "# merge toronto_grouped with toronto_data to add latitude/longitude for each neighborhood\n",
    "toronto_merged = toronto_merged.join(neighborhoods_venues_sorted.set_index('Neighbourhood'), on='Neighborhood')\n",
    "\n",
    "toronto_merged.head() # check the last columns!"
   ]
  },
  {
   "cell_type": "code",
   "execution_count": null,
   "metadata": {},
   "outputs": [],
   "source": [
    "toronto_merged[toronto_merged['Cluster Labels'].isnull()]\n"
   ]
  },
  {
   "cell_type": "code",
   "execution_count": null,
   "metadata": {},
   "outputs": [],
   "source": [
    "import matplotlib.cm as cm\n",
    "import matplotlib.colors as colors\n",
    "\n",
    "# create map\n",
    "map_clusters = folium.Map(location=[latitude, longitude], zoom_start=11)\n",
    "\n",
    "# set color scheme for the clusters\n",
    "x = np.arange(kclusters)\n",
    "ys = [i + x + (i*x)**2 for i in range(kclusters)]\n",
    "colors_array = cm.rainbow(np.linspace(0, 1, len(ys)))\n",
    "rainbow = [colors.rgb2hex(i) for i in colors_array]\n",
    "\n",
    "toronto_merged_nonan = toronto_merged.dropna(subset=['Cluster Labels'])\n",
    "\n",
    "# add markers to the map\n",
    "markers_colors = []\n",
    "for lat, lon, poi, cluster in zip(toronto_merged_nonan['Latitude'], toronto_merged_nonan['Longitude'], toronto_merged_nonan['Neighborhood'], toronto_merged_nonan['Cluster Labels']):\n",
    "    label = folium.Popup(str(poi) + ' Cluster ' + str(cluster), parse_html=True)\n",
    "    folium.CircleMarker(\n",
    "        [lat, lon],\n",
    "        radius=5,\n",
    "        popup=label,\n",
    "        color=rainbow[int(cluster-1)],\n",
    "        fill=True,\n",
    "        fill_color=rainbow[int(cluster-1)],\n",
    "        fill_opacity=0.7).add_to(map_clusters)\n",
    "       \n",
    "map_clusters"
   ]
  },
  {
   "cell_type": "markdown",
   "metadata": {},
   "source": [
    "clusters 1"
   ]
  },
  {
   "cell_type": "code",
   "execution_count": 33,
   "metadata": {},
   "outputs": [],
   "source": [
    "toronto_merged_nonan.loc[toronto_merged_nonan['Cluster Labels'] == 0, toronto_merged_nonan.columns[[1] + list(range(5, toronto_merged_nonan.shape[1]))]]"
   ]
  },
  {
   "cell_type": "markdown",
   "metadata": {},
   "source": [
    "clusters 2"
   ]
  },
  {
   "cell_type": "code",
   "execution_count": null,
   "metadata": {},
   "outputs": [],
   "source": [
    "toronto_merged_nonan.loc[toronto_merged_nonan['Cluster Labels'] == 1, toronto_merged_nonan.columns[[1] + list(range(5, toronto_merged_nonan.shape[1]))]]\n"
   ]
  },
  {
   "cell_type": "markdown",
   "metadata": {},
   "source": [
    "clusters 3"
   ]
  },
  {
   "cell_type": "code",
   "execution_count": null,
   "metadata": {},
   "outputs": [],
   "source": [
    "toronto_merged_nonan.loc[toronto_merged_nonan['Cluster Labels'] == 2, toronto_merged_nonan.columns[[1] + list(range(5, toronto_merged_nonan.shape[1]))]]"
   ]
  },
  {
   "cell_type": "markdown",
   "metadata": {},
   "source": [
    "clusters 4"
   ]
  },
  {
   "cell_type": "code",
   "execution_count": 35,
   "metadata": {},
   "outputs": [],
   "source": [
    "toronto_merged_nonan.loc[toronto_merged_nonan['Cluster Labels'] == 3, toronto_merged_nonan.columns[[1] + list(range(5, toronto_merged_nonan.shape[1]))]]"
   ]
  },
  {
   "cell_type": "code",
   "execution_count": null,
   "metadata": {},
   "outputs": [],
   "source": [
    "clusters 5"
   ]
  },
  {
   "cell_type": "code",
   "execution_count": null,
   "metadata": {},
   "outputs": [],
   "source": [
    "toronto_merged_nonan.loc[toronto_merged_nonan['Cluster Labels'] == 4, toronto_merged_nonan.columns[[1] + list(range(5, toronto_merged_nonan.shape[1]))]]"
   ]
  }
 ],
 "metadata": {
  "kernelspec": {
   "display_name": "Python 3",
   "language": "python",
   "name": "python3"
  },
  "language_info": {
   "codemirror_mode": {
    "name": "ipython",
    "version": 3
   },
   "file_extension": ".py",
   "mimetype": "text/x-python",
   "name": "python",
   "nbconvert_exporter": "python",
   "pygments_lexer": "ipython3",
   "version": "3.7.7"
  }
 },
 "nbformat": 4,
 "nbformat_minor": 4
}
